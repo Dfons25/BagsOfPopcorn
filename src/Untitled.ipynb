{
 "cells": [
  {
   "cell_type": "code",
   "execution_count": 7,
   "metadata": {},
   "outputs": [],
   "source": [
    "from timeit import default_timer as now\n",
    "import pandas as pd\n",
    "from clean_documents import clean_text"
   ]
  },
  {
   "cell_type": "code",
   "execution_count": 2,
   "metadata": {},
   "outputs": [],
   "source": [
    "movie_reviews = pd.read_csv(\"../data/raw/labeledTrainData.tsv\", sep='\\t')"
   ]
  },
  {
   "cell_type": "code",
   "execution_count": 3,
   "metadata": {},
   "outputs": [
    {
     "data": {
      "text/html": [
       "<div>\n",
       "<style scoped>\n",
       "    .dataframe tbody tr th:only-of-type {\n",
       "        vertical-align: middle;\n",
       "    }\n",
       "\n",
       "    .dataframe tbody tr th {\n",
       "        vertical-align: top;\n",
       "    }\n",
       "\n",
       "    .dataframe thead th {\n",
       "        text-align: right;\n",
       "    }\n",
       "</style>\n",
       "<table border=\"1\" class=\"dataframe\">\n",
       "  <thead>\n",
       "    <tr style=\"text-align: right;\">\n",
       "      <th></th>\n",
       "      <th>id</th>\n",
       "      <th>sentiment</th>\n",
       "      <th>review</th>\n",
       "    </tr>\n",
       "  </thead>\n",
       "  <tbody>\n",
       "    <tr>\n",
       "      <th>0</th>\n",
       "      <td>5814_8</td>\n",
       "      <td>1</td>\n",
       "      <td>With all this stuff going down at the moment w...</td>\n",
       "    </tr>\n",
       "    <tr>\n",
       "      <th>1</th>\n",
       "      <td>2381_9</td>\n",
       "      <td>1</td>\n",
       "      <td>\\The Classic War of the Worlds\\\" by Timothy Hi...</td>\n",
       "    </tr>\n",
       "    <tr>\n",
       "      <th>2</th>\n",
       "      <td>7759_3</td>\n",
       "      <td>0</td>\n",
       "      <td>The film starts with a manager (Nicholas Bell)...</td>\n",
       "    </tr>\n",
       "    <tr>\n",
       "      <th>3</th>\n",
       "      <td>3630_4</td>\n",
       "      <td>0</td>\n",
       "      <td>It must be assumed that those who praised this...</td>\n",
       "    </tr>\n",
       "    <tr>\n",
       "      <th>4</th>\n",
       "      <td>9495_8</td>\n",
       "      <td>1</td>\n",
       "      <td>Superbly trashy and wondrously unpretentious 8...</td>\n",
       "    </tr>\n",
       "  </tbody>\n",
       "</table>\n",
       "</div>"
      ],
      "text/plain": [
       "       id  sentiment                                             review\n",
       "0  5814_8          1  With all this stuff going down at the moment w...\n",
       "1  2381_9          1  \\The Classic War of the Worlds\\\" by Timothy Hi...\n",
       "2  7759_3          0  The film starts with a manager (Nicholas Bell)...\n",
       "3  3630_4          0  It must be assumed that those who praised this...\n",
       "4  9495_8          1  Superbly trashy and wondrously unpretentious 8..."
      ]
     },
     "execution_count": 3,
     "metadata": {},
     "output_type": "execute_result"
    }
   ],
   "source": [
    "movie_reviews.head()"
   ]
  },
  {
   "cell_type": "code",
   "execution_count": 8,
   "metadata": {},
   "outputs": [
    {
     "name": "stdout",
     "output_type": "stream",
     "text": [
      "elapsed time: 5.375799406970125\n"
     ]
    }
   ],
   "source": [
    "start_time = now()\n",
    "movie_reviews[\"review\"].head(250).apply(lambda x: clean_text(x))\n",
    "elapsed_time = now() - start_time\n",
    "print(\"elapsed time: {}\".format(elapsed_time))"
   ]
  },
  {
   "cell_type": "code",
   "execution_count": 9,
   "metadata": {},
   "outputs": [],
   "source": [
    "movie_reviews[\"reviews_cleaned\"] = movie_reviews[\"review\"].apply(lambda x: clean_text(x))"
   ]
  },
  {
   "cell_type": "code",
   "execution_count": 10,
   "metadata": {},
   "outputs": [
    {
     "data": {
      "text/html": [
       "<div>\n",
       "<style scoped>\n",
       "    .dataframe tbody tr th:only-of-type {\n",
       "        vertical-align: middle;\n",
       "    }\n",
       "\n",
       "    .dataframe tbody tr th {\n",
       "        vertical-align: top;\n",
       "    }\n",
       "\n",
       "    .dataframe thead th {\n",
       "        text-align: right;\n",
       "    }\n",
       "</style>\n",
       "<table border=\"1\" class=\"dataframe\">\n",
       "  <thead>\n",
       "    <tr style=\"text-align: right;\">\n",
       "      <th></th>\n",
       "      <th>id</th>\n",
       "      <th>sentiment</th>\n",
       "      <th>review</th>\n",
       "      <th>reviews_cleaned</th>\n",
       "    </tr>\n",
       "  </thead>\n",
       "  <tbody>\n",
       "    <tr>\n",
       "      <th>0</th>\n",
       "      <td>5814_8</td>\n",
       "      <td>1</td>\n",
       "      <td>With all this stuff going down at the moment w...</td>\n",
       "      <td>([(stuff, n), (moment, n), (mj, n), (start, v)...</td>\n",
       "    </tr>\n",
       "    <tr>\n",
       "      <th>1</th>\n",
       "      <td>2381_9</td>\n",
       "      <td>1</td>\n",
       "      <td>\\The Classic War of the Worlds\\\" by Timothy Hi...</td>\n",
       "      <td>([(classic, a), (war, n), (world, n), (timothy...</td>\n",
       "    </tr>\n",
       "    <tr>\n",
       "      <th>2</th>\n",
       "      <td>7759_3</td>\n",
       "      <td>0</td>\n",
       "      <td>The film starts with a manager (Nicholas Bell)...</td>\n",
       "      <td>([(film, n), (start, v), (manager, n), (nichol...</td>\n",
       "    </tr>\n",
       "    <tr>\n",
       "      <th>3</th>\n",
       "      <td>3630_4</td>\n",
       "      <td>0</td>\n",
       "      <td>It must be assumed that those who praised this...</td>\n",
       "      <td>([(must, None), (assume, v), (praise, v), (fil...</td>\n",
       "    </tr>\n",
       "    <tr>\n",
       "      <th>4</th>\n",
       "      <td>9495_8</td>\n",
       "      <td>1</td>\n",
       "      <td>Superbly trashy and wondrously unpretentious 8...</td>\n",
       "      <td>([(superbly, r), (trashy, a), (wondrously, r),...</td>\n",
       "    </tr>\n",
       "  </tbody>\n",
       "</table>\n",
       "</div>"
      ],
      "text/plain": [
       "       id  sentiment                                             review  \\\n",
       "0  5814_8          1  With all this stuff going down at the moment w...   \n",
       "1  2381_9          1  \\The Classic War of the Worlds\\\" by Timothy Hi...   \n",
       "2  7759_3          0  The film starts with a manager (Nicholas Bell)...   \n",
       "3  3630_4          0  It must be assumed that those who praised this...   \n",
       "4  9495_8          1  Superbly trashy and wondrously unpretentious 8...   \n",
       "\n",
       "                                     reviews_cleaned  \n",
       "0  ([(stuff, n), (moment, n), (mj, n), (start, v)...  \n",
       "1  ([(classic, a), (war, n), (world, n), (timothy...  \n",
       "2  ([(film, n), (start, v), (manager, n), (nichol...  \n",
       "3  ([(must, None), (assume, v), (praise, v), (fil...  \n",
       "4  ([(superbly, r), (trashy, a), (wondrously, r),...  "
      ]
     },
     "execution_count": 10,
     "metadata": {},
     "output_type": "execute_result"
    }
   ],
   "source": [
    "movie_reviews.head()"
   ]
  },
  {
   "cell_type": "code",
   "execution_count": 20,
   "metadata": {},
   "outputs": [],
   "source": [
    "def merge_tokens(tokens):\n",
    "    return \" \".join([t[0] for t in tokens[0]]).strip()"
   ]
  },
  {
   "cell_type": "code",
   "execution_count": 21,
   "metadata": {},
   "outputs": [],
   "source": [
    "movie_reviews[\"reviews_joined\"] = movie_reviews[\"reviews_cleaned\"].apply(lambda x: merge_tokens(x))"
   ]
  },
  {
   "cell_type": "code",
   "execution_count": 22,
   "metadata": {},
   "outputs": [
    {
     "data": {
      "text/html": [
       "<div>\n",
       "<style scoped>\n",
       "    .dataframe tbody tr th:only-of-type {\n",
       "        vertical-align: middle;\n",
       "    }\n",
       "\n",
       "    .dataframe tbody tr th {\n",
       "        vertical-align: top;\n",
       "    }\n",
       "\n",
       "    .dataframe thead th {\n",
       "        text-align: right;\n",
       "    }\n",
       "</style>\n",
       "<table border=\"1\" class=\"dataframe\">\n",
       "  <thead>\n",
       "    <tr style=\"text-align: right;\">\n",
       "      <th></th>\n",
       "      <th>id</th>\n",
       "      <th>sentiment</th>\n",
       "      <th>review</th>\n",
       "      <th>reviews_cleaned</th>\n",
       "      <th>reviews_joined</th>\n",
       "    </tr>\n",
       "  </thead>\n",
       "  <tbody>\n",
       "    <tr>\n",
       "      <th>0</th>\n",
       "      <td>5814_8</td>\n",
       "      <td>1</td>\n",
       "      <td>With all this stuff going down at the moment w...</td>\n",
       "      <td>([(stuff, n), (moment, n), (mj, n), (start, v)...</td>\n",
       "      <td>stuff moment mj start listen music watch odd d...</td>\n",
       "    </tr>\n",
       "    <tr>\n",
       "      <th>1</th>\n",
       "      <td>2381_9</td>\n",
       "      <td>1</td>\n",
       "      <td>\\The Classic War of the Worlds\\\" by Timothy Hi...</td>\n",
       "      <td>([(classic, a), (war, n), (world, n), (timothy...</td>\n",
       "      <td>classic war world timothy hines entertaining f...</td>\n",
       "    </tr>\n",
       "    <tr>\n",
       "      <th>2</th>\n",
       "      <td>7759_3</td>\n",
       "      <td>0</td>\n",
       "      <td>The film starts with a manager (Nicholas Bell)...</td>\n",
       "      <td>([(film, n), (start, v), (manager, n), (nichol...</td>\n",
       "      <td>film start manager nicholas bell give welcome ...</td>\n",
       "    </tr>\n",
       "    <tr>\n",
       "      <th>3</th>\n",
       "      <td>3630_4</td>\n",
       "      <td>0</td>\n",
       "      <td>It must be assumed that those who praised this...</td>\n",
       "      <td>([(must, None), (assume, v), (praise, v), (fil...</td>\n",
       "      <td>must assume praise film great filmed opera eve...</td>\n",
       "    </tr>\n",
       "    <tr>\n",
       "      <th>4</th>\n",
       "      <td>9495_8</td>\n",
       "      <td>1</td>\n",
       "      <td>Superbly trashy and wondrously unpretentious 8...</td>\n",
       "      <td>([(superbly, r), (trashy, a), (wondrously, r),...</td>\n",
       "      <td>superbly trashy wondrously unpretentious explo...</td>\n",
       "    </tr>\n",
       "  </tbody>\n",
       "</table>\n",
       "</div>"
      ],
      "text/plain": [
       "       id  sentiment                                             review  \\\n",
       "0  5814_8          1  With all this stuff going down at the moment w...   \n",
       "1  2381_9          1  \\The Classic War of the Worlds\\\" by Timothy Hi...   \n",
       "2  7759_3          0  The film starts with a manager (Nicholas Bell)...   \n",
       "3  3630_4          0  It must be assumed that those who praised this...   \n",
       "4  9495_8          1  Superbly trashy and wondrously unpretentious 8...   \n",
       "\n",
       "                                     reviews_cleaned  \\\n",
       "0  ([(stuff, n), (moment, n), (mj, n), (start, v)...   \n",
       "1  ([(classic, a), (war, n), (world, n), (timothy...   \n",
       "2  ([(film, n), (start, v), (manager, n), (nichol...   \n",
       "3  ([(must, None), (assume, v), (praise, v), (fil...   \n",
       "4  ([(superbly, r), (trashy, a), (wondrously, r),...   \n",
       "\n",
       "                                      reviews_joined  \n",
       "0  stuff moment mj start listen music watch odd d...  \n",
       "1  classic war world timothy hines entertaining f...  \n",
       "2  film start manager nicholas bell give welcome ...  \n",
       "3  must assume praise film great filmed opera eve...  \n",
       "4  superbly trashy wondrously unpretentious explo...  "
      ]
     },
     "execution_count": 22,
     "metadata": {},
     "output_type": "execute_result"
    }
   ],
   "source": [
    "movie_reviews.head()"
   ]
  },
  {
   "cell_type": "code",
   "execution_count": 26,
   "metadata": {},
   "outputs": [],
   "source": [
    "from sklearn.feature_extraction.text import TfidfVectorizer"
   ]
  },
  {
   "cell_type": "code",
   "execution_count": 35,
   "metadata": {},
   "outputs": [],
   "source": [
    "ngram_range = (1 , 2)\n",
    "norm = None\n",
    "smooth_idf = False"
   ]
  },
  {
   "cell_type": "code",
   "execution_count": 36,
   "metadata": {},
   "outputs": [],
   "source": [
    "vectoriser = TfidfVectorizer(ngram_range=ngram_range, norm=norm, smooth_idf=smooth_idf)"
   ]
  },
  {
   "cell_type": "code",
   "execution_count": 37,
   "metadata": {},
   "outputs": [],
   "source": [
    "corpus = vectoriser.fit_transform(movie_reviews[\"reviews_joined\"])"
   ]
  },
  {
   "cell_type": "code",
   "execution_count": 38,
   "metadata": {},
   "outputs": [
    {
     "data": {
      "text/plain": [
       "<25000x1630939 sparse matrix of type '<class 'numpy.float64'>'\n",
       "\twith 4937499 stored elements in Compressed Sparse Row format>"
      ]
     },
     "execution_count": 38,
     "metadata": {},
     "output_type": "execute_result"
    }
   ],
   "source": [
    "corpus"
   ]
  },
  {
   "cell_type": "code",
   "execution_count": 39,
   "metadata": {},
   "outputs": [],
   "source": [
    "from sklearn.decomposition import TruncatedSVD "
   ]
  },
  {
   "cell_type": "code",
   "execution_count": 40,
   "metadata": {},
   "outputs": [],
   "source": [
    "n_components = 100"
   ]
  },
  {
   "cell_type": "code",
   "execution_count": 41,
   "metadata": {},
   "outputs": [],
   "source": [
    "decomposer = TruncatedSVD(n_components=n_components)"
   ]
  },
  {
   "cell_type": "code",
   "execution_count": 42,
   "metadata": {},
   "outputs": [],
   "source": [
    "X = decomposer.fit_transform(corpus)"
   ]
  },
  {
   "cell_type": "code",
   "execution_count": 44,
   "metadata": {},
   "outputs": [
    {
     "data": {
      "text/plain": [
       "(25000, 100)"
      ]
     },
     "execution_count": 44,
     "metadata": {},
     "output_type": "execute_result"
    }
   ],
   "source": [
    "X.shape"
   ]
  },
  {
   "cell_type": "code",
   "execution_count": 50,
   "metadata": {},
   "outputs": [
    {
     "data": {
      "text/plain": [
       "array([2056.60065707,  769.29656787,  755.28672767,  646.27436543,\n",
       "        582.40302571,  572.245981  ,  570.60494743,  565.24810591,\n",
       "        538.34307206,  530.86984375,  522.3481192 ,  516.5734089 ,\n",
       "        514.47026609,  498.1590743 ,  493.47289022,  487.80321615,\n",
       "        483.60361446,  482.85728634,  478.99239186,  477.12554608,\n",
       "        473.1729996 ,  464.99302744,  461.10982126,  455.67162774,\n",
       "        453.61288459,  453.29139898,  449.94314923,  447.05789299,\n",
       "        445.94545623,  445.57960815,  442.40025821,  440.76131874,\n",
       "        437.25399781,  435.63680119,  434.49635714,  432.69576422,\n",
       "        432.23414143,  430.42972171,  429.16700691,  424.16544462,\n",
       "        422.32106113,  421.04422438,  421.00710319,  419.51148914,\n",
       "        418.43988486,  417.05865183,  414.37131869,  412.79085883,\n",
       "        411.62234759,  410.38696957,  409.04637947,  406.95240364,\n",
       "        404.43606369,  403.84161229,  401.39302232,  399.26464411,\n",
       "        398.51863124,  397.79251264,  396.46845223,  394.65451454,\n",
       "        394.06563145,  391.11841654,  389.28174116,  388.79167707,\n",
       "        386.80563167,  386.61052706,  384.44716501,  383.67984893,\n",
       "        382.39171671,  380.78261801,  379.98334142,  378.91436056,\n",
       "        377.51593468,  376.35415832,  375.76712173,  374.68715245,\n",
       "        373.43700792,  371.67339297,  371.01764026,  369.87082715,\n",
       "        369.34403752,  367.70248912,  366.6349858 ,  366.021854  ,\n",
       "        364.87317651,  363.37216235,  362.08817452,  361.3950567 ,\n",
       "        360.83327669,  359.90711115,  358.00266064,  357.48055025,\n",
       "        357.16135515,  356.26820195,  355.33399097,  354.60105909,\n",
       "        352.72147243,  351.67064147,  350.37006794,  349.0147448 ])"
      ]
     },
     "execution_count": 50,
     "metadata": {},
     "output_type": "execute_result"
    }
   ],
   "source": [
    "decomposer.singular_values_"
   ]
  },
  {
   "cell_type": "code",
   "execution_count": 58,
   "metadata": {},
   "outputs": [
    {
     "data": {
      "text/plain": [
       "array([ 229523, 1256380,  824567,  943001,  529997], dtype=int64)"
      ]
     },
     "execution_count": 58,
     "metadata": {},
     "output_type": "execute_result"
    }
   ],
   "source": [
    "decomposer.components_[0, :].argsort()[-5:]"
   ]
  },
  {
   "cell_type": "code",
   "execution_count": 62,
   "metadata": {},
   "outputs": [],
   "source": [
    "import numpy as np"
   ]
  },
  {
   "cell_type": "code",
   "execution_count": 79,
   "metadata": {},
   "outputs": [
    {
     "data": {
      "text/plain": [
       "array(['movie', 'bad', 'watch', 'like', 'think', 'see', 'bad movie',\n",
       "       'watch movie', 'good', 'guy', 'see movie', 'plot', 'horror',\n",
       "       'movie like', 'acting', 'movie ever', 'people', 'waste', 'zombie',\n",
       "       'ever'], dtype='<U47')"
      ]
     },
     "execution_count": 79,
     "metadata": {},
     "output_type": "execute_result"
    }
   ],
   "source": [
    "np.array(vectoriser.get_feature_names())[decomposer.components_[1, :].argsort()[:20]]"
   ]
  },
  {
   "cell_type": "code",
   "execution_count": 46,
   "metadata": {},
   "outputs": [
    {
     "data": {
      "text/plain": [
       "(100, 1630939)"
      ]
     },
     "execution_count": 46,
     "metadata": {},
     "output_type": "execute_result"
    }
   ],
   "source": [
    "decomposer.components_.shape"
   ]
  },
  {
   "cell_type": "code",
   "execution_count": 65,
   "metadata": {},
   "outputs": [],
   "source": [
    "y = movie_reviews[\"sentiment\"].astype(bool)"
   ]
  },
  {
   "cell_type": "code",
   "execution_count": 67,
   "metadata": {},
   "outputs": [
    {
     "data": {
      "text/plain": [
       "0         True\n",
       "1         True\n",
       "2        False\n",
       "3        False\n",
       "4         True\n",
       "5         True\n",
       "6        False\n",
       "7        False\n",
       "8        False\n",
       "9         True\n",
       "10       False\n",
       "11        True\n",
       "12        True\n",
       "13       False\n",
       "14       False\n",
       "15       False\n",
       "16       False\n",
       "17       False\n",
       "18        True\n",
       "19        True\n",
       "20        True\n",
       "21        True\n",
       "22        True\n",
       "23       False\n",
       "24       False\n",
       "25        True\n",
       "26       False\n",
       "27       False\n",
       "28       False\n",
       "29       False\n",
       "         ...  \n",
       "24970     True\n",
       "24971     True\n",
       "24972     True\n",
       "24973    False\n",
       "24974     True\n",
       "24975     True\n",
       "24976    False\n",
       "24977     True\n",
       "24978     True\n",
       "24979     True\n",
       "24980     True\n",
       "24981     True\n",
       "24982    False\n",
       "24983    False\n",
       "24984    False\n",
       "24985    False\n",
       "24986     True\n",
       "24987     True\n",
       "24988     True\n",
       "24989     True\n",
       "24990     True\n",
       "24991    False\n",
       "24992    False\n",
       "24993    False\n",
       "24994    False\n",
       "24995    False\n",
       "24996    False\n",
       "24997    False\n",
       "24998    False\n",
       "24999     True\n",
       "Name: sentiment, Length: 25000, dtype: bool"
      ]
     },
     "execution_count": 67,
     "metadata": {},
     "output_type": "execute_result"
    }
   ],
   "source": [
    "y"
   ]
  },
  {
   "cell_type": "code",
   "execution_count": 72,
   "metadata": {},
   "outputs": [],
   "source": [
    "from sklearn.feature_selection import SelectKBest\n",
    "from sklearn.feature_selection import mutual_info_classif"
   ]
  },
  {
   "cell_type": "code",
   "execution_count": 69,
   "metadata": {},
   "outputs": [],
   "source": [
    "k = 10"
   ]
  },
  {
   "cell_type": "code",
   "execution_count": 74,
   "metadata": {},
   "outputs": [],
   "source": [
    "selector = SelectKBest(mutual_info_classif, k=k)"
   ]
  },
  {
   "cell_type": "code",
   "execution_count": 75,
   "metadata": {},
   "outputs": [],
   "source": [
    "X_selected = selector.fit_transform(X, y)"
   ]
  },
  {
   "cell_type": "code",
   "execution_count": 76,
   "metadata": {},
   "outputs": [
    {
     "data": {
      "text/plain": [
       "(25000, 10)"
      ]
     },
     "execution_count": 76,
     "metadata": {},
     "output_type": "execute_result"
    }
   ],
   "source": [
    "X_selected.shape"
   ]
  },
  {
   "cell_type": "code",
   "execution_count": 77,
   "metadata": {},
   "outputs": [
    {
     "data": {
      "text/plain": [
       "array([0.00158282, 0.03934382, 0.03070673, 0.03895132, 0.04586751,\n",
       "       0.00983597, 0.01488179, 0.01193097, 0.01088082, 0.00840758,\n",
       "       0.01683045, 0.02133985, 0.05812433, 0.0046155 , 0.00724703,\n",
       "       0.01849373, 0.01866172, 0.00041533, 0.00421381, 0.06223085,\n",
       "       0.02822222, 0.00993962, 0.00390459, 0.00972193, 0.02970307,\n",
       "       0.00192243, 0.00518444, 0.02126916, 0.01803394, 0.00502985,\n",
       "       0.01379013, 0.008665  , 0.00538544, 0.00297313, 0.02136129,\n",
       "       0.02786858, 0.02081371, 0.00848697, 0.02325845, 0.01309672,\n",
       "       0.0056454 , 0.01553872, 0.00298788, 0.00486397, 0.00583571,\n",
       "       0.01080769, 0.00234193, 0.01367626, 0.01551966, 0.0059782 ,\n",
       "       0.01836166, 0.01990985, 0.01381916, 0.01983934, 0.00475297,\n",
       "       0.005928  , 0.01188572, 0.01247442, 0.00482416, 0.00929658,\n",
       "       0.01061125, 0.0091828 , 0.00434968, 0.00421067, 0.01045426,\n",
       "       0.00514657, 0.0070923 , 0.00926964, 0.01149182, 0.0044816 ,\n",
       "       0.00735433, 0.00730093, 0.00547162, 0.01189995, 0.00089132,\n",
       "       0.00766258, 0.00558639, 0.0062869 , 0.01137222, 0.01025767,\n",
       "       0.00670827, 0.00773469, 0.00652397, 0.00865362, 0.00435607,\n",
       "       0.00590245, 0.00715194, 0.00829149, 0.0118501 , 0.00543646,\n",
       "       0.00736808, 0.00113989, 0.00065337, 0.00552549, 0.00855893,\n",
       "       0.00626064, 0.00517322, 0.00754363, 0.00232638, 0.00563002])"
      ]
     },
     "execution_count": 77,
     "metadata": {},
     "output_type": "execute_result"
    }
   ],
   "source": [
    "selector.scores_"
   ]
  },
  {
   "cell_type": "code",
   "execution_count": 80,
   "metadata": {},
   "outputs": [],
   "source": [
    "from sklearn.svm import SVC"
   ]
  },
  {
   "cell_type": "code",
   "execution_count": 81,
   "metadata": {},
   "outputs": [],
   "source": [
    "classifier = SVC()"
   ]
  },
  {
   "cell_type": "code",
   "execution_count": 82,
   "metadata": {},
   "outputs": [],
   "source": [
    "from sklearn.model_selection import GridSearchCV"
   ]
  },
  {
   "cell_type": "code",
   "execution_count": 84,
   "metadata": {},
   "outputs": [],
   "source": [
    "params = {\n",
    "    \"C\": 10.**np.arange(-2, 2)\n",
    "}"
   ]
  },
  {
   "cell_type": "code",
   "execution_count": 90,
   "metadata": {},
   "outputs": [],
   "source": [
    "learner = GridSearchCV(classifier, params, cv=5, n_jobs=-1)"
   ]
  },
  {
   "cell_type": "code",
   "execution_count": 91,
   "metadata": {},
   "outputs": [
    {
     "name": "stderr",
     "output_type": "stream",
     "text": [
      "C:\\Users\\Jan\\Miniconda3\\envs\\popcorn-bag\\lib\\site-packages\\sklearn\\svm\\base.py:196: FutureWarning: The default value of gamma will change from 'auto' to 'scale' in version 0.22 to account better for unscaled features. Set gamma explicitly to 'auto' or 'scale' to avoid this warning.\n",
      "  \"avoid this warning.\", FutureWarning)\n"
     ]
    },
    {
     "data": {
      "text/plain": [
       "GridSearchCV(cv=5, error_score='raise-deprecating',\n",
       "       estimator=SVC(C=1.0, cache_size=200, class_weight=None, coef0=0.0,\n",
       "  decision_function_shape='ovr', degree=3, gamma='auto_deprecated',\n",
       "  kernel='rbf', max_iter=-1, probability=False, random_state=None,\n",
       "  shrinking=True, tol=0.001, verbose=False),\n",
       "       fit_params=None, iid='warn', n_jobs=-1,\n",
       "       param_grid={'C': array([ 0.01,  0.1 ,  1.  , 10.  ])},\n",
       "       pre_dispatch='2*n_jobs', refit=True, return_train_score='warn',\n",
       "       scoring=None, verbose=0)"
      ]
     },
     "execution_count": 91,
     "metadata": {},
     "output_type": "execute_result"
    }
   ],
   "source": [
    "learner.fit(X_selected, y)"
   ]
  },
  {
   "cell_type": "code",
   "execution_count": 93,
   "metadata": {},
   "outputs": [
    {
     "name": "stderr",
     "output_type": "stream",
     "text": [
      "C:\\Users\\Jan\\Miniconda3\\envs\\popcorn-bag\\lib\\site-packages\\sklearn\\utils\\deprecation.py:125: FutureWarning: You are accessing a training score ('split0_train_score'), which will not be available by default any more in 0.21. If you need training scores, please set return_train_score=True\n",
      "  warnings.warn(*warn_args, **warn_kwargs)\n",
      "C:\\Users\\Jan\\Miniconda3\\envs\\popcorn-bag\\lib\\site-packages\\sklearn\\utils\\deprecation.py:125: FutureWarning: You are accessing a training score ('split1_train_score'), which will not be available by default any more in 0.21. If you need training scores, please set return_train_score=True\n",
      "  warnings.warn(*warn_args, **warn_kwargs)\n",
      "C:\\Users\\Jan\\Miniconda3\\envs\\popcorn-bag\\lib\\site-packages\\sklearn\\utils\\deprecation.py:125: FutureWarning: You are accessing a training score ('split2_train_score'), which will not be available by default any more in 0.21. If you need training scores, please set return_train_score=True\n",
      "  warnings.warn(*warn_args, **warn_kwargs)\n",
      "C:\\Users\\Jan\\Miniconda3\\envs\\popcorn-bag\\lib\\site-packages\\sklearn\\utils\\deprecation.py:125: FutureWarning: You are accessing a training score ('split3_train_score'), which will not be available by default any more in 0.21. If you need training scores, please set return_train_score=True\n",
      "  warnings.warn(*warn_args, **warn_kwargs)\n",
      "C:\\Users\\Jan\\Miniconda3\\envs\\popcorn-bag\\lib\\site-packages\\sklearn\\utils\\deprecation.py:125: FutureWarning: You are accessing a training score ('split4_train_score'), which will not be available by default any more in 0.21. If you need training scores, please set return_train_score=True\n",
      "  warnings.warn(*warn_args, **warn_kwargs)\n",
      "C:\\Users\\Jan\\Miniconda3\\envs\\popcorn-bag\\lib\\site-packages\\sklearn\\utils\\deprecation.py:125: FutureWarning: You are accessing a training score ('mean_train_score'), which will not be available by default any more in 0.21. If you need training scores, please set return_train_score=True\n",
      "  warnings.warn(*warn_args, **warn_kwargs)\n",
      "C:\\Users\\Jan\\Miniconda3\\envs\\popcorn-bag\\lib\\site-packages\\sklearn\\utils\\deprecation.py:125: FutureWarning: You are accessing a training score ('std_train_score'), which will not be available by default any more in 0.21. If you need training scores, please set return_train_score=True\n",
      "  warnings.warn(*warn_args, **warn_kwargs)\n"
     ]
    },
    {
     "data": {
      "text/html": [
       "<div>\n",
       "<style scoped>\n",
       "    .dataframe tbody tr th:only-of-type {\n",
       "        vertical-align: middle;\n",
       "    }\n",
       "\n",
       "    .dataframe tbody tr th {\n",
       "        vertical-align: top;\n",
       "    }\n",
       "\n",
       "    .dataframe thead th {\n",
       "        text-align: right;\n",
       "    }\n",
       "</style>\n",
       "<table border=\"1\" class=\"dataframe\">\n",
       "  <thead>\n",
       "    <tr style=\"text-align: right;\">\n",
       "      <th></th>\n",
       "      <th>mean_fit_time</th>\n",
       "      <th>std_fit_time</th>\n",
       "      <th>mean_score_time</th>\n",
       "      <th>std_score_time</th>\n",
       "      <th>param_C</th>\n",
       "      <th>params</th>\n",
       "      <th>split0_test_score</th>\n",
       "      <th>split1_test_score</th>\n",
       "      <th>split2_test_score</th>\n",
       "      <th>split3_test_score</th>\n",
       "      <th>...</th>\n",
       "      <th>mean_test_score</th>\n",
       "      <th>std_test_score</th>\n",
       "      <th>rank_test_score</th>\n",
       "      <th>split0_train_score</th>\n",
       "      <th>split1_train_score</th>\n",
       "      <th>split2_train_score</th>\n",
       "      <th>split3_train_score</th>\n",
       "      <th>split4_train_score</th>\n",
       "      <th>mean_train_score</th>\n",
       "      <th>std_train_score</th>\n",
       "    </tr>\n",
       "  </thead>\n",
       "  <tbody>\n",
       "    <tr>\n",
       "      <th>0</th>\n",
       "      <td>29.498992</td>\n",
       "      <td>0.223867</td>\n",
       "      <td>2.968413</td>\n",
       "      <td>0.044256</td>\n",
       "      <td>0.01</td>\n",
       "      <td>{'C': 0.01}</td>\n",
       "      <td>0.6986</td>\n",
       "      <td>0.7132</td>\n",
       "      <td>0.7146</td>\n",
       "      <td>0.7174</td>\n",
       "      <td>...</td>\n",
       "      <td>0.71260</td>\n",
       "      <td>0.007307</td>\n",
       "      <td>4</td>\n",
       "      <td>0.71555</td>\n",
       "      <td>0.71235</td>\n",
       "      <td>0.71555</td>\n",
       "      <td>0.7141</td>\n",
       "      <td>0.71675</td>\n",
       "      <td>0.71486</td>\n",
       "      <td>0.001510</td>\n",
       "    </tr>\n",
       "    <tr>\n",
       "      <th>1</th>\n",
       "      <td>23.858834</td>\n",
       "      <td>0.898593</td>\n",
       "      <td>2.567462</td>\n",
       "      <td>0.046021</td>\n",
       "      <td>0.1</td>\n",
       "      <td>{'C': 0.1}</td>\n",
       "      <td>0.7390</td>\n",
       "      <td>0.7456</td>\n",
       "      <td>0.7448</td>\n",
       "      <td>0.7570</td>\n",
       "      <td>...</td>\n",
       "      <td>0.74656</td>\n",
       "      <td>0.005834</td>\n",
       "      <td>3</td>\n",
       "      <td>0.75640</td>\n",
       "      <td>0.75515</td>\n",
       "      <td>0.75760</td>\n",
       "      <td>0.7534</td>\n",
       "      <td>0.75905</td>\n",
       "      <td>0.75632</td>\n",
       "      <td>0.001949</td>\n",
       "    </tr>\n",
       "    <tr>\n",
       "      <th>2</th>\n",
       "      <td>46.912519</td>\n",
       "      <td>0.309200</td>\n",
       "      <td>2.299872</td>\n",
       "      <td>0.041903</td>\n",
       "      <td>1</td>\n",
       "      <td>{'C': 1.0}</td>\n",
       "      <td>0.7710</td>\n",
       "      <td>0.7810</td>\n",
       "      <td>0.7698</td>\n",
       "      <td>0.7836</td>\n",
       "      <td>...</td>\n",
       "      <td>0.77600</td>\n",
       "      <td>0.005444</td>\n",
       "      <td>1</td>\n",
       "      <td>0.85800</td>\n",
       "      <td>0.85745</td>\n",
       "      <td>0.85990</td>\n",
       "      <td>0.8572</td>\n",
       "      <td>0.86210</td>\n",
       "      <td>0.85893</td>\n",
       "      <td>0.001846</td>\n",
       "    </tr>\n",
       "    <tr>\n",
       "      <th>3</th>\n",
       "      <td>79.709571</td>\n",
       "      <td>8.732287</td>\n",
       "      <td>1.751825</td>\n",
       "      <td>0.365318</td>\n",
       "      <td>10</td>\n",
       "      <td>{'C': 10.0}</td>\n",
       "      <td>0.7538</td>\n",
       "      <td>0.7640</td>\n",
       "      <td>0.7570</td>\n",
       "      <td>0.7654</td>\n",
       "      <td>...</td>\n",
       "      <td>0.75808</td>\n",
       "      <td>0.005835</td>\n",
       "      <td>2</td>\n",
       "      <td>0.90650</td>\n",
       "      <td>0.90600</td>\n",
       "      <td>0.90520</td>\n",
       "      <td>0.9057</td>\n",
       "      <td>0.90725</td>\n",
       "      <td>0.90613</td>\n",
       "      <td>0.000701</td>\n",
       "    </tr>\n",
       "  </tbody>\n",
       "</table>\n",
       "<p>4 rows × 21 columns</p>\n",
       "</div>"
      ],
      "text/plain": [
       "   mean_fit_time  std_fit_time  mean_score_time  std_score_time param_C  \\\n",
       "0      29.498992      0.223867         2.968413        0.044256    0.01   \n",
       "1      23.858834      0.898593         2.567462        0.046021     0.1   \n",
       "2      46.912519      0.309200         2.299872        0.041903       1   \n",
       "3      79.709571      8.732287         1.751825        0.365318      10   \n",
       "\n",
       "        params  split0_test_score  split1_test_score  split2_test_score  \\\n",
       "0  {'C': 0.01}             0.6986             0.7132             0.7146   \n",
       "1   {'C': 0.1}             0.7390             0.7456             0.7448   \n",
       "2   {'C': 1.0}             0.7710             0.7810             0.7698   \n",
       "3  {'C': 10.0}             0.7538             0.7640             0.7570   \n",
       "\n",
       "   split3_test_score       ...         mean_test_score  std_test_score  \\\n",
       "0             0.7174       ...                 0.71260        0.007307   \n",
       "1             0.7570       ...                 0.74656        0.005834   \n",
       "2             0.7836       ...                 0.77600        0.005444   \n",
       "3             0.7654       ...                 0.75808        0.005835   \n",
       "\n",
       "   rank_test_score  split0_train_score  split1_train_score  \\\n",
       "0                4             0.71555             0.71235   \n",
       "1                3             0.75640             0.75515   \n",
       "2                1             0.85800             0.85745   \n",
       "3                2             0.90650             0.90600   \n",
       "\n",
       "   split2_train_score  split3_train_score  split4_train_score  \\\n",
       "0             0.71555              0.7141             0.71675   \n",
       "1             0.75760              0.7534             0.75905   \n",
       "2             0.85990              0.8572             0.86210   \n",
       "3             0.90520              0.9057             0.90725   \n",
       "\n",
       "   mean_train_score  std_train_score  \n",
       "0           0.71486         0.001510  \n",
       "1           0.75632         0.001949  \n",
       "2           0.85893         0.001846  \n",
       "3           0.90613         0.000701  \n",
       "\n",
       "[4 rows x 21 columns]"
      ]
     },
     "execution_count": 93,
     "metadata": {},
     "output_type": "execute_result"
    }
   ],
   "source": [
    "pd.DataFrame(learner.cv_results_)"
   ]
  },
  {
   "cell_type": "code",
   "execution_count": null,
   "metadata": {},
   "outputs": [],
   "source": []
  }
 ],
 "metadata": {
  "kernelspec": {
   "display_name": "Python (Popcorn Bag)",
   "language": "python",
   "name": "popcorn-bag"
  },
  "language_info": {
   "codemirror_mode": {
    "name": "ipython",
    "version": 3
   },
   "file_extension": ".py",
   "mimetype": "text/x-python",
   "name": "python",
   "nbconvert_exporter": "python",
   "pygments_lexer": "ipython3",
   "version": "3.6.7"
  }
 },
 "nbformat": 4,
 "nbformat_minor": 2
}

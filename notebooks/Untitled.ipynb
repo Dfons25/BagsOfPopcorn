{
 "cells": [
  {
   "cell_type": "code",
   "execution_count": 1,
   "metadata": {},
   "outputs": [],
   "source": [
    "import pandas as pd"
   ]
  },
  {
   "cell_type": "code",
   "execution_count": 4,
   "metadata": {},
   "outputs": [],
   "source": [
    "movie_reviews = pd.read_csv(\"../data/raw/labeledTrainData.tsv\", sep='\\t')"
   ]
  },
  {
   "cell_type": "code",
   "execution_count": 5,
   "metadata": {},
   "outputs": [
    {
     "data": {
      "text/html": [
       "<div>\n",
       "<style scoped>\n",
       "    .dataframe tbody tr th:only-of-type {\n",
       "        vertical-align: middle;\n",
       "    }\n",
       "\n",
       "    .dataframe tbody tr th {\n",
       "        vertical-align: top;\n",
       "    }\n",
       "\n",
       "    .dataframe thead th {\n",
       "        text-align: right;\n",
       "    }\n",
       "</style>\n",
       "<table border=\"1\" class=\"dataframe\">\n",
       "  <thead>\n",
       "    <tr style=\"text-align: right;\">\n",
       "      <th></th>\n",
       "      <th>id</th>\n",
       "      <th>sentiment</th>\n",
       "      <th>review</th>\n",
       "    </tr>\n",
       "  </thead>\n",
       "  <tbody>\n",
       "    <tr>\n",
       "      <th>0</th>\n",
       "      <td>5814_8</td>\n",
       "      <td>1</td>\n",
       "      <td>With all this stuff going down at the moment w...</td>\n",
       "    </tr>\n",
       "    <tr>\n",
       "      <th>1</th>\n",
       "      <td>2381_9</td>\n",
       "      <td>1</td>\n",
       "      <td>\\The Classic War of the Worlds\\\" by Timothy Hi...</td>\n",
       "    </tr>\n",
       "    <tr>\n",
       "      <th>2</th>\n",
       "      <td>7759_3</td>\n",
       "      <td>0</td>\n",
       "      <td>The film starts with a manager (Nicholas Bell)...</td>\n",
       "    </tr>\n",
       "    <tr>\n",
       "      <th>3</th>\n",
       "      <td>3630_4</td>\n",
       "      <td>0</td>\n",
       "      <td>It must be assumed that those who praised this...</td>\n",
       "    </tr>\n",
       "    <tr>\n",
       "      <th>4</th>\n",
       "      <td>9495_8</td>\n",
       "      <td>1</td>\n",
       "      <td>Superbly trashy and wondrously unpretentious 8...</td>\n",
       "    </tr>\n",
       "  </tbody>\n",
       "</table>\n",
       "</div>"
      ],
      "text/plain": [
       "       id  sentiment                                             review\n",
       "0  5814_8          1  With all this stuff going down at the moment w...\n",
       "1  2381_9          1  \\The Classic War of the Worlds\\\" by Timothy Hi...\n",
       "2  7759_3          0  The film starts with a manager (Nicholas Bell)...\n",
       "3  3630_4          0  It must be assumed that those who praised this...\n",
       "4  9495_8          1  Superbly trashy and wondrously unpretentious 8..."
      ]
     },
     "execution_count": 5,
     "metadata": {},
     "output_type": "execute_result"
    }
   ],
   "source": [
    "movie_reviews.head()"
   ]
  },
  {
   "cell_type": "code",
   "execution_count": 7,
   "metadata": {},
   "outputs": [
    {
     "data": {
      "text/plain": [
       "(25000, 3)"
      ]
     },
     "execution_count": 7,
     "metadata": {},
     "output_type": "execute_result"
    }
   ],
   "source": [
    "movie_reviews.shape"
   ]
  },
  {
   "cell_type": "code",
   "execution_count": 14,
   "metadata": {},
   "outputs": [],
   "source": [
    "pd.set_option('display.max_colwidth', -1)"
   ]
  },
  {
   "cell_type": "code",
   "execution_count": 16,
   "metadata": {},
   "outputs": [
    {
     "data": {
      "text/plain": [
       "7010     I thought that Mukhsin has been wonderfully written. Its not just about entertainment. There's tonnes of subtle messages that i think Yasmin was trying to bring across. And yes, it might be confusing to some of you(especially if you didn't watch Sepet and/or Gubra for 76 times).<br /><br />I bet u noticed how they use characters from the two movies before right? Its really ironic how the characters relate. Like the bossy neighbour is that prostitute from Gubra. And the chick at the snooker pad turns out to be the religious and wife of the pious man in the future. <br /><br />And i absolutely love the voice-overs. Its crude yet awakeningly fresh. Like, when they took a shot of the Rumah Tumpangan Gamin signboard, then there was suddenly Mukhsin's voice saying 'Bismillahhirrahmannirrahim..' (the scene when he climbed the tree).<br /><br />It captured Malaysian's attitude(and in some mild way, sniggering at how pathetic it is) portrayed in the character. For example, even the kids can be really sharp tongued(complete with the shrill annoying voice) and simply bad mouth ppl all movie long. And how you can be such a busybody and talk about ppl, when ur own life isn't sorted out. <br /><br />All i can say is, this movie totally reached my expectation if not exceeded it. <br /><br />It kept me glued to the screen, i couldn't even take my eyes off it. Not even to make out in the cinema. Ha ha.                                                                                                                                     \n",
       "9980     I thought the children in the show did a very good job. I especially enjoyed the performance of the Emma character. Well done! The stunts were pretty good for a low budget show. I was able to follow the movie and enjoy it without having to look at my watch every 5 minutes.I enjoyed the scenes with the tooth fairy and the burning of her. The ghostly apparitions of the children's souls being released was also good. Another good point of the movie is that it kept moving along. There wasn't a lot of slow scenes. The adult leads were also believable and therefore helped to keep the show entertaining. All in all an enjoyable night of movie watching.                                                                                                                                                                                                                                                                                                                                                                                                                                                                                                                                                                                                                                                                                                                                                                                                                                                                                                                          \n",
       "9505     I'm one of the millions of Columbo addicts all over the world and just watched this,the episode that started it all, on British Channel 5. It IS fascinating to think what sprung from this so-so movie and I can only marvel at whoever spotted the massive potential of \\Columbo\\\" and added all the little touches that make it such a marvellous & classic series. That said, this particular movie is not as good as the rest (except for the embarrassing final episode & the patronising British episode). If Columbo had been made as per the original 'pilot' it certainly would NOT have gone on for very long, or be watched and loved world-wide. In this film Lt Columbo is smartly dressed, drives a normal car, has a partner, doesn't talk about his alleged relatives and comes across as quite aggressive. There's also none of the cat-and-mouse chemistry between Columbo and \\\"the villain\\\". Watchable, but only for the novelty of seeing how Columbo started out.\"                                                                                                                                                                                                                                                                                                                                                                                                                                                                                                                                                                                                           \n",
       "23996    This (extremely)low-budget movie is compared to the great classic \\Silent Night Deadly Night\\\", since it is labeled as a Slasher Flick. First let me say that I think that even \\\"Silent Night Part 2\\\" is better than this (that one was filled with flashbacks of the original for more than half of the movie). \\\"Christmas Evil\\\" tries to get psychological by introducing the main character as someone who goes insane,(a strong word), slowly (very slowly). He is irritated by people who do not get the true meaning of Christmas and at work he can't stand how the fabricated toys are made with such lack of quality and love. Dressed up as Santa he finally goes on a killing spree. Also a strong word, since only 3 people are killed without the real need for special effects. No tension, no thrills, no gore, no cast. For one exception that is: Jeffrey DeMunn is in it. He is best known for playing aside Tom Hanks as one of the guards in the classic \\\"The Green Mile\\\". He still must be kicking himself these days for ever accepting the role. He truly is the only one who really can act, his supporting role is better than the main lead. (who also isn't that bad, but if you're overshadowed by a little supporting character, you're not great either.). And what about that strange ending ? (you have to see it, to believe it). \\\"Christmas Evil\\\" is downright boring, nothing happens and the artwork is just misleading. This is not a slasher. You wanna see a real Christmas slasher, check out the all time greatest: \\\"Silent Night, Deadly Night\\\".\"\n",
       "18136    So what's the big fuss out of making an INDIANA JONES wannabe when you have an actor who's cast as a fictional dude from adventure storybooks who doesn't want to go out on an adventure??? Whoever wrote the script for JAKE SPEED was probably fired, but for whatever reasons possible, this movie greatly lacks in excitement! That doesn't mean it has no action, but look on the dark side of the picture. This has got to bare no resemblance to INDIANA JONES or other action-adventure thrills containing cliffhangers and narrow escapes, and JAKE SPEED was promoted that way using clever propaganda to make me and several others interested in it! Besides, I've never heard of the guy, so who needs his attention?                                                                                                                                                                                                                                                                                                                                                                                                                                                                                                                                                                                                                                                                                                                                                                                                                                                                   \n",
       "Name: review, dtype: object"
      ]
     },
     "execution_count": 16,
     "metadata": {},
     "output_type": "execute_result"
    }
   ],
   "source": [
    "movie_reviews.sample(5).loc[:, \"review\"]"
   ]
  },
  {
   "cell_type": "code",
   "execution_count": null,
   "metadata": {},
   "outputs": [],
   "source": []
  }
 ],
 "metadata": {
  "kernelspec": {
   "display_name": "Python (Popcorn Bag)",
   "language": "python",
   "name": "popcorn-bag"
  },
  "language_info": {
   "codemirror_mode": {
    "name": "ipython",
    "version": 3
   },
   "file_extension": ".py",
   "mimetype": "text/x-python",
   "name": "python",
   "nbconvert_exporter": "python",
   "pygments_lexer": "ipython3",
   "version": "3.6.7"
  }
 },
 "nbformat": 4,
 "nbformat_minor": 2
}

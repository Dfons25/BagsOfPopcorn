{
 "cells": [
  {
   "cell_type": "code",
   "execution_count": 2,
   "metadata": {},
   "outputs": [],
   "source": [
    "import nltk\n",
    "from nltk.corpus import stopwords\n",
    "import pandas as pd\n",
    "import sys\n",
    "sys.path.append('../src')\n",
    "from features import clean_data\n",
    "from features import build_features"
   ]
  },
  {
   "cell_type": "markdown",
   "metadata": {},
   "source": [
    "### Remove stopwords"
   ]
  },
  {
   "cell_type": "code",
   "execution_count": 3,
   "metadata": {},
   "outputs": [],
   "source": [
    "train = pd.read_csv(\"../data/processed/labeledTrainData.tsv\", sep='\\t', quoting=3)\n",
    "\n",
    "english_stopwords = stopwords.words('english')\n",
    "english_stopwords_postags = nltk.pos_tag(english_stopwords)\n",
    "\n",
    "# remove adjectives and adverbs from stopwords\n",
    "pos_to_remove = [\"JJ\", \"JJR\", \"JJS\", \"RB\", \"RBR\", \"RBS\"]\n",
    "stopwords_no_adjadv = clean_data.remove_adjadv_from_stopwords(english_stopwords_postags, pos_to_remove)\n",
    "\n",
    "train_no_stops = clean_data.remove_stopwords_from_corpus(train['review'], stopwords_no_adjadv)"
   ]
  },
  {
   "cell_type": "markdown",
   "metadata": {},
   "source": [
    "### Bag of Words"
   ]
  },
  {
   "cell_type": "code",
   "execution_count": 4,
   "metadata": {},
   "outputs": [],
   "source": [
    "features = build_features.bag_of_words(train_no_stops, 10000)\n",
    "\n",
    "#get the index of a specific word\n",
    "#features.vocabulary_.get('document')"
   ]
  },
  {
   "cell_type": "code",
   "execution_count": null,
   "metadata": {},
   "outputs": [],
   "source": []
  }
 ],
 "metadata": {
  "kernelspec": {
   "display_name": "Python (Popcorn Bag)",
   "language": "python",
   "name": "popcorn-bag"
  },
  "language_info": {
   "codemirror_mode": {
    "name": "ipython",
    "version": 3
   },
   "file_extension": ".py",
   "mimetype": "text/x-python",
   "name": "python",
   "nbconvert_exporter": "python",
   "pygments_lexer": "ipython3",
   "version": "3.6.5"
  }
 },
 "nbformat": 4,
 "nbformat_minor": 2
}
